{
 "cells": [
  {
   "cell_type": "code",
   "execution_count": 47,
   "metadata": {},
   "outputs": [
    {
     "data": {
      "text/plain": [
       "2021    400\n",
       "2022    420\n",
       "2023    450\n",
       "2024    480\n",
       "2025    500\n",
       "dtype: int64"
      ]
     },
     "execution_count": 47,
     "metadata": {},
     "output_type": "execute_result"
    }
   ],
   "source": [
    "#1 Series 物件\n",
    "import pandas as pd\n",
    "years = range(2021, 2026)\n",
    "nums = pd.Series([400, 420, 450, 480, 500], index = years)\n",
    "nums"
   ]
  },
  {
   "cell_type": "code",
   "execution_count": 46,
   "metadata": {},
   "outputs": [
    {
     "data": {
      "text/html": [
       "<div>\n",
       "<style scoped>\n",
       "    .dataframe tbody tr th:only-of-type {\n",
       "        vertical-align: middle;\n",
       "    }\n",
       "\n",
       "    .dataframe tbody tr th {\n",
       "        vertical-align: top;\n",
       "    }\n",
       "\n",
       "    .dataframe thead th {\n",
       "        text-align: right;\n",
       "    }\n",
       "</style>\n",
       "<table border=\"1\" class=\"dataframe\">\n",
       "  <thead>\n",
       "    <tr style=\"text-align: right;\">\n",
       "      <th></th>\n",
       "      <th>population</th>\n",
       "    </tr>\n",
       "  </thead>\n",
       "  <tbody>\n",
       "    <tr>\n",
       "      <th>North America</th>\n",
       "      <td>3.8</td>\n",
       "    </tr>\n",
       "    <tr>\n",
       "      <th>south America</th>\n",
       "      <td>6.2</td>\n",
       "    </tr>\n",
       "    <tr>\n",
       "      <th>Europ</th>\n",
       "      <td>7.4</td>\n",
       "    </tr>\n",
       "    <tr>\n",
       "      <th>Africa</th>\n",
       "      <td>12.28</td>\n",
       "    </tr>\n",
       "    <tr>\n",
       "      <th>Asia</th>\n",
       "      <td>45.45</td>\n",
       "    </tr>\n",
       "  </tbody>\n",
       "</table>\n",
       "</div>"
      ],
      "text/plain": [
       "              population\n",
       "North America        3.8\n",
       "south America        6.2\n",
       "Europ                7.4\n",
       "Africa             12.28\n",
       "Asia               45.45"
      ]
     },
     "execution_count": 46,
     "metadata": {},
     "output_type": "execute_result"
    }
   ],
   "source": [
    "#2 Dataframe\n",
    "import pandas as pd\n",
    "datas = {'state':['North America', 'south America', 'Europ', 'Africa', 'Asia'],\n",
    "            'population':['3.8', '6.2', '7.4', '12.28', '45.45']}\n",
    "\n",
    "data = pd.DataFrame(datas, columns=['population'], index = datas['state'])\n",
    "data\n"
   ]
  },
  {
   "cell_type": "code",
   "execution_count": 45,
   "metadata": {},
   "outputs": [
    {
     "data": {
      "text/html": [
       "<div>\n",
       "<style scoped>\n",
       "    .dataframe tbody tr th:only-of-type {\n",
       "        vertical-align: middle;\n",
       "    }\n",
       "\n",
       "    .dataframe tbody tr th {\n",
       "        vertical-align: top;\n",
       "    }\n",
       "\n",
       "    .dataframe thead th {\n",
       "        text-align: right;\n",
       "    }\n",
       "</style>\n",
       "<table border=\"1\" class=\"dataframe\">\n",
       "  <thead>\n",
       "    <tr style=\"text-align: right;\">\n",
       "      <th></th>\n",
       "      <th>population</th>\n",
       "      <th>cum_population</th>\n",
       "    </tr>\n",
       "  </thead>\n",
       "  <tbody>\n",
       "    <tr>\n",
       "      <th>North America</th>\n",
       "      <td>3.80</td>\n",
       "      <td>3.80</td>\n",
       "    </tr>\n",
       "    <tr>\n",
       "      <th>south America</th>\n",
       "      <td>6.20</td>\n",
       "      <td>10.00</td>\n",
       "    </tr>\n",
       "    <tr>\n",
       "      <th>Europ</th>\n",
       "      <td>7.40</td>\n",
       "      <td>17.40</td>\n",
       "    </tr>\n",
       "    <tr>\n",
       "      <th>Africa</th>\n",
       "      <td>12.28</td>\n",
       "      <td>29.68</td>\n",
       "    </tr>\n",
       "    <tr>\n",
       "      <th>Asia</th>\n",
       "      <td>45.45</td>\n",
       "      <td>75.13</td>\n",
       "    </tr>\n",
       "  </tbody>\n",
       "</table>\n",
       "</div>"
      ],
      "text/plain": [
       "               population  cum_population\n",
       "North America        3.80            3.80\n",
       "south America        6.20           10.00\n",
       "Europ                7.40           17.40\n",
       "Africa              12.28           29.68\n",
       "Asia                45.45           75.13"
      ]
     },
     "execution_count": 45,
     "metadata": {},
     "output_type": "execute_result"
    }
   ],
   "source": [
    "#3 將上一題增加欄位 顯示累計值\n",
    "import pandas as pd\n",
    "datas = {'state':['North America', 'south America', 'Europ', 'Africa', 'Asia'],\n",
    "            'population':[3.8, 6.2, 7.4, 12.28, 45.45]}\n",
    "df = pd.DataFrame(datas, columns=['population'], index = datas['state'])\n",
    "\n",
    "y = df['population'].cumsum()\n",
    "df['cum_population'] = y\n",
    "\n",
    "data"
   ]
  },
  {
   "cell_type": "code",
   "execution_count": 44,
   "metadata": {},
   "outputs": [
    {
     "name": "stdout",
     "output_type": "stream",
     "text": [
      "台積電最佳五檔價量表\n"
     ]
    },
    {
     "data": {
      "text/html": [
       "<div>\n",
       "<style scoped>\n",
       "    .dataframe tbody tr th:only-of-type {\n",
       "        vertical-align: middle;\n",
       "    }\n",
       "\n",
       "    .dataframe tbody tr th {\n",
       "        vertical-align: top;\n",
       "    }\n",
       "\n",
       "    .dataframe thead th {\n",
       "        text-align: right;\n",
       "    }\n",
       "</style>\n",
       "<table border=\"1\" class=\"dataframe\">\n",
       "  <thead>\n",
       "    <tr style=\"text-align: right;\">\n",
       "      <th></th>\n",
       "      <th>BVolumn</th>\n",
       "      <th>Buy</th>\n",
       "      <th>Sell</th>\n",
       "      <th>SVolumn</th>\n",
       "    </tr>\n",
       "  </thead>\n",
       "  <tbody>\n",
       "    <tr>\n",
       "      <th>1</th>\n",
       "      <td>225</td>\n",
       "      <td>514.0000</td>\n",
       "      <td>515.0000</td>\n",
       "      <td>756</td>\n",
       "    </tr>\n",
       "    <tr>\n",
       "      <th>2</th>\n",
       "      <td>391</td>\n",
       "      <td>513.0000</td>\n",
       "      <td>516.0000</td>\n",
       "      <td>160</td>\n",
       "    </tr>\n",
       "    <tr>\n",
       "      <th>3</th>\n",
       "      <td>501</td>\n",
       "      <td>512.0000</td>\n",
       "      <td>517.0000</td>\n",
       "      <td>147</td>\n",
       "    </tr>\n",
       "    <tr>\n",
       "      <th>4</th>\n",
       "      <td>396</td>\n",
       "      <td>511.0000</td>\n",
       "      <td>518.0000</td>\n",
       "      <td>152</td>\n",
       "    </tr>\n",
       "    <tr>\n",
       "      <th>5</th>\n",
       "      <td>880</td>\n",
       "      <td>510.0000</td>\n",
       "      <td>519.0000</td>\n",
       "      <td>562</td>\n",
       "    </tr>\n",
       "  </tbody>\n",
       "</table>\n",
       "</div>"
      ],
      "text/plain": [
       "  BVolumn       Buy      Sell SVolumn\n",
       "1     225  514.0000  515.0000     756\n",
       "2     391  513.0000  516.0000     160\n",
       "3     501  512.0000  517.0000     147\n",
       "4     396  511.0000  518.0000     152\n",
       "5     880  510.0000  519.0000     562"
      ]
     },
     "execution_count": 44,
     "metadata": {},
     "output_type": "execute_result"
    }
   ],
   "source": [
    "#4\n",
    "import pandas as pd\n",
    "import twstock\n",
    "\n",
    "stock2330 = twstock.realtime.get('2330')\n",
    "buyPrice = stock2330['realtime']['best_bid_price']\n",
    "buyNum = stock2330['realtime']['best_bid_volume']\n",
    "selPrice = stock2330['realtime']['best_ask_price']\n",
    "selNum = stock2330['realtime']['best_ask_volume']\n",
    "\n",
    "dict2330 = {'BVolumn':buyNum,\n",
    "            'Buy':buyPrice,\n",
    "            'Sell':selPrice,\n",
    "            'SVolumn':selNum}\n",
    "\n",
    "df2330 = pd.DataFrame(dict2330, index=range(1,6))\n",
    "print(\"台積電最佳五檔價量表\")\n",
    "df2330\n",
    "\n"
   ]
  },
  {
   "cell_type": "code",
   "execution_count": 31,
   "metadata": {},
   "outputs": [],
   "source": [
    "#5\n",
    "import pandas as pd\n",
    "import numpy as np\n",
    "course = ['Chinese', 'English', 'Math', 'Natural', 'Society']\n",
    "\n",
    "chinese = [14, 12, 13, 10, 13]\n",
    "english = [13, 14, 11, 10, 15]\n",
    "math = [15, 9, 12, 8, 15]\n",
    "natural = [15, 10, 13, 10, 15]\n",
    "society = [12, 11, 14, 9, 14]\n",
    "\n",
    "df = pd.DataFrame([chinese, english, math, natural, society], columns = course, index = range(1,6))\n",
    "\n",
    "#計算總分\n",
    "total = [df.iloc[i].sum() for i in range(0, 5)]\n",
    "#併入表格\n",
    "df['Total'] = total\n",
    "\n",
    "\n",
    "#計算各科平均\n",
    "#ave = df.mean()\n",
    "#增加index 併入表格\n",
    "#df.loc['Average'] = ave\n",
    "\n",
    "#排序\n",
    "df = df.sort_values(by = 'Total', ascending = False)\n",
    "rank = range(1, 6)\n",
    "df['Ranking'] = rank\n",
    "\n",
    "#處理成績一樣的排序\n",
    "for i in range(1,5):\n",
    "    if df.iat[i, 5] == df.iat[i-1, 5]:\n",
    "        df.iat[i, 6] = df.iat[i-1, 6]\n",
    "\n",
    "#依照index重新排序\n",
    "df = df.sort_index()\n",
    "\n",
    "#最後才算平均 平均才不會被納入排序\n",
    "ave = df.mean()\n",
    "df.loc['Average'] = ave\n",
    "df.iat[5,6] = np.nan\n",
    "\n",
    "df\n",
    "\n",
    "#輸出檔案\n",
    "df.to_csv('ex25_5.csv')"
   ]
  },
  {
   "cell_type": "code",
   "execution_count": 43,
   "metadata": {},
   "outputs": [
    {
     "data": {
      "image/png": "[encoded data removed]",
      "text/plain": [
       "<Figure size 432x288 with 2 Axes>"
      ]
     },
     "metadata": {
      "needs_background": "light"
     },
     "output_type": "display_data"
    }
   ],
   "source": [
    "#6 雙軸\n",
    "import pandas as pd\n",
    "import matplotlib.pyplot as plt\n",
    "\n",
    "cities = {'population':[1000, 850, 800, 1500, 600, 800],\n",
    "            'area':[400, 500, 850, 300, 200, 320],\n",
    "            'town':['New York', 'Chicago', 'Bangkok', 'Tokyo', 'Singapore', 'Hongkong']}\n",
    "df = pd.DataFrame(cities, columns=['population','area','density'], index=cities['town'])\n",
    "\n",
    "density = df['population'].div(cities['area'])\n",
    "df['density'] = density\n",
    "df\n",
    "\n",
    "#雙軸圖表設定\n",
    "fig, ax = plt.subplots()\n",
    "fig.suptitle('City Statistics')\n",
    "ax.set_ylabel('Population and Area')\n",
    "ax.set_xlabel('City')\n",
    "ax2 = ax.twinx()\n",
    "ax2.set_ylabel('Density')\n",
    "df['population'].plot(ax = ax, rot = 90)\n",
    "df['area'].plot(ax = ax, rot = 90)\n",
    "df['density'].plot(ax = ax2, style = 'r-')\n",
    "ax.legend(loc = 1)\n",
    "ax2.legend(loc = 2)\n",
    "plt.show()"
   ]
  },
  {
   "cell_type": "code",
   "execution_count": 50,
   "metadata": {},
   "outputs": [
    {
     "name": "stdout",
     "output_type": "stream",
     "text": [
      "下載成功\n"
     ]
    }
   ],
   "source": [
    "#7\n",
    "import requests\n",
    "\n",
    "url = 'http://archive.ics.uci.edu/ml/machine-learning-databases/iris/iris.data'\n",
    "try:\n",
    "    htmlfile = requests.get(url)\n",
    "    print('下載成功')\n",
    "except Exception as err:\n",
    "    print('下載失敗')\n",
    "\n",
    "fn = 'iris.csv'\n",
    "with open(fn, 'wb') as fileObj:\n",
    "    for diskstorage in htmlfile.iter_content(10240):\n",
    "        size = fileObj.write(diskstorage)"
   ]
  },
  {
   "cell_type": "code",
   "execution_count": 62,
   "metadata": {},
   "outputs": [
    {
     "data": {
      "image/png": "[encoded data removed]",
      "text/plain": [
       "<Figure size 432x288 with 1 Axes>"
      ]
     },
     "metadata": {
      "needs_background": "light"
     },
     "output_type": "display_data"
    }
   ],
   "source": [
    "import pandas as pd\n",
    "\n",
    "colName = ['sepal_len', 'sepal_wd', 'petal_len', 'petal_wd', 'species']\n",
    "iris = pd.read_csv('iris.csv', names = colName)\n",
    "\n",
    "\n",
    "#擷取不同品種的鳶尾花\n",
    "iris_setosa = iris[iris['species'] == 'Iris-setosa']\n",
    "iris_versicolor = iris[iris['species'] == 'Iris-versicolor']\n",
    "iris_virginica = iris[iris['species'] == 'Iris-virginica']\n",
    "\n",
    "plt.plot(iris_setosa['petal_len'], iris_setosa['petal_wd'], '*', label = 'setosa')\n",
    "plt.plot(iris_versicolor['petal_len'], iris_versicolor['petal_wd'], '.', label = 'versicolor')\n",
    "plt.plot(iris_virginica['petal_len'], iris_virginica['petal_wd'], 'x', label = 'virginica')\n",
    "\n",
    "plt.xlabel('Petal Length')\n",
    "plt.ylabel('Petal Width')\n",
    "plt.title('Iris Petal Length and Width anslysis')\n",
    "plt.legend()\n",
    "plt.show()\n"
   ]
  }
 ],
 "metadata": {
  "interpreter": {
   "hash": "5ca10262de4900a20e7ce514200c9e784d94f7730503b44ded5c34771089d176"
  },
  "kernelspec": {
   "display_name": "Python 3.9.12 64-bit (windows store)",
   "language": "python",
   "name": "python3"
  },
  "language_info": {
   "codemirror_mode": {
    "name": "ipython",
    "version": 3
   },
   "file_extension": ".py",
   "mimetype": "text/x-python",
   "name": "python",
   "nbconvert_exporter": "python",
   "pygments_lexer": "ipython3",
   "version": "3.9.13"
  },
  "orig_nbformat": 4
 },
 "nbformat": 4,
 "nbformat_minor": 2
}
